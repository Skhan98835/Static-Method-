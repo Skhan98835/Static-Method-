{
 "cells": [
  {
   "cell_type": "code",
   "execution_count": 7,
   "id": "57b01126-56b3-4e2c-b362-4428e9332752",
   "metadata": {},
   "outputs": [],
   "source": [
    "class pwskills :\n",
    "    def student_details(self, name, mail_id, number) :\n",
    "        print(name, mail_id, number)"
   ]
  },
  {
   "cell_type": "code",
   "execution_count": 8,
   "id": "79ec0212-54ea-4760-a44d-5d2b2704486c",
   "metadata": {},
   "outputs": [],
   "source": [
    "pw =pwskills()"
   ]
  },
  {
   "cell_type": "code",
   "execution_count": 10,
   "id": "b6d09582-1668-43bb-a1b4-bcff939e8829",
   "metadata": {},
   "outputs": [
    {
     "name": "stdout",
     "output_type": "stream",
     "text": [
      "shah shah@gmail.com 9883545138\n"
     ]
    }
   ],
   "source": [
    "pw.student_details(\"shah\", \"shah@gmail.com\", 9883545138)"
   ]
  },
  {
   "cell_type": "code",
   "execution_count": 24,
   "id": "912d6db4-73b6-4b11-96b0-5dba35abe1a0",
   "metadata": {},
   "outputs": [],
   "source": [
    "class pwskills1 :\n",
    "    def student_details(self, name, mail_id, number) :\n",
    "        print(name, mail_id, number)\n",
    "        \n",
    "    @staticmethod\n",
    "    def mentor_class(list_mentor) :\n",
    "        print(list_mentor)\n",
    "        \n",
    "    def mentor(self, mentor_list):\n",
    "        print(mentor_list)"
   ]
  },
  {
   "cell_type": "code",
   "execution_count": 20,
   "id": "b684009c-e9af-4d4a-986d-87e68442f8e2",
   "metadata": {},
   "outputs": [],
   "source": [
    "pw =pwskills1()"
   ]
  },
  {
   "cell_type": "code",
   "execution_count": 14,
   "id": "64e78131-e5d0-4488-a69f-69a16c4e963b",
   "metadata": {},
   "outputs": [
    {
     "name": "stdout",
     "output_type": "stream",
     "text": [
      "['shah', 'khan']\n"
     ]
    }
   ],
   "source": [
    "pwskills1.mentor_class([\"shah\", \"khan\"])"
   ]
  },
  {
   "cell_type": "code",
   "execution_count": 25,
   "id": "676f37aa-9b9a-4b70-b297-5e10bacfa0a9",
   "metadata": {},
   "outputs": [],
   "source": [
    "stu1 = pwskills1()"
   ]
  },
  {
   "cell_type": "code",
   "execution_count": 16,
   "id": "30216787-23ea-4844-ba3a-74c7a20a7dcd",
   "metadata": {},
   "outputs": [],
   "source": [
    "stu2 =pwskills1()"
   ]
  },
  {
   "cell_type": "code",
   "execution_count": 26,
   "id": "5f63e4f1-9a9f-4a8a-bf0f-08e10c2c656b",
   "metadata": {},
   "outputs": [],
   "source": [
    "stu3 = pwskills1()"
   ]
  },
  {
   "cell_type": "code",
   "execution_count": 27,
   "id": "8cc3902f-940e-41c8-ae3c-3154adc6f2d5",
   "metadata": {},
   "outputs": [
    {
     "name": "stdout",
     "output_type": "stream",
     "text": [
      "['shah', 'khan']\n"
     ]
    }
   ],
   "source": [
    "stu1.mentor([\"shah\", \"khan\"])"
   ]
  },
  {
   "cell_type": "code",
   "execution_count": 44,
   "id": "01ed8d72-8849-43dc-ad5d-be5e8a26c33e",
   "metadata": {},
   "outputs": [],
   "source": [
    "class pwskills2 :\n",
    "    def student_details(self, name, mail_id, number) :\n",
    "        print(name, mail_id, number)\n",
    "        \n",
    "    @staticmethod\n",
    "    def mentor_mail_id(mail_id_mentor) :\n",
    "        print(mail_id_mentor)\n",
    "        \n",
    "    @staticmethod\n",
    "    def mentor_class(list_mentor) :\n",
    "        pwskills2.mentor_mail_id([\"shah@gmail.com\", \"khan@gmail.com\"])\n",
    "        print(list_mentor)\n",
    "        \n",
    "    \n",
    "        \n",
    "    @classmethod\n",
    "    def class_name(cls):\n",
    "        cls.mentor_class([\"Shah\", \"khan\"])\n",
    "        \n",
    "        \n",
    "    def mentor(self, mentor_list):\n",
    "        print(mentor_list)\n",
    "        "
   ]
  },
  {
   "cell_type": "code",
   "execution_count": 45,
   "id": "d363e69a-8f7d-4ef7-979a-d7f0ae8ae9a1",
   "metadata": {},
   "outputs": [
    {
     "name": "stdout",
     "output_type": "stream",
     "text": [
      "['shah@gmail.com', 'khan@gmail.com']\n",
      "['shah', 'khan']\n"
     ]
    }
   ],
   "source": [
    "pwskills2.mentor_class([\"shah\", \"khan\"])"
   ]
  },
  {
   "cell_type": "code",
   "execution_count": null,
   "id": "30dbcd52-67cd-4546-8a63-9afb476cf469",
   "metadata": {},
   "outputs": [],
   "source": []
  },
  {
   "cell_type": "code",
   "execution_count": null,
   "id": "1c336288-edab-44f1-a828-85949cc5aead",
   "metadata": {},
   "outputs": [],
   "source": []
  }
 ],
 "metadata": {
  "kernelspec": {
   "display_name": "Python 3 (ipykernel)",
   "language": "python",
   "name": "python3"
  },
  "language_info": {
   "codemirror_mode": {
    "name": "ipython",
    "version": 3
   },
   "file_extension": ".py",
   "mimetype": "text/x-python",
   "name": "python",
   "nbconvert_exporter": "python",
   "pygments_lexer": "ipython3",
   "version": "3.10.8"
  }
 },
 "nbformat": 4,
 "nbformat_minor": 5
}
